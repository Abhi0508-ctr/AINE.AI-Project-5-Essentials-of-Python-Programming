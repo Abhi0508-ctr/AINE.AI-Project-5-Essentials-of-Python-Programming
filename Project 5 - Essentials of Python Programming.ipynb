{
 "cells": [
  {
   "cell_type": "markdown",
   "metadata": {},
   "source": [
    "# Program using Nested Conditional"
   ]
  },
  {
   "cell_type": "code",
   "execution_count": 1,
   "metadata": {},
   "outputs": [
    {
     "name": "stdout",
     "output_type": "stream",
     "text": [
      "Enter A choice (Paper,Rock,Scissors,Lizard,Spock): Paper\n"
     ]
    }
   ],
   "source": [
    "# Here I took user Input.\n",
    "User_action = input(\"Enter A choice (Paper,Rock,Scissors,Lizard,Spock): \")"
   ]
  },
  {
   "cell_type": "code",
   "execution_count": 2,
   "metadata": {},
   "outputs": [],
   "source": [
    "# Here I Import random\n",
    "import random\n",
    "# Here are the Possible action by the User\n",
    "Possible_action = ['Paper','Rock','Scissors','Lizard','Spock']\n",
    "# Here are the Possible action by the Computer\n",
    "Computer_action = random.choice(Possible_action)"
   ]
  },
  {
   "cell_type": "code",
   "execution_count": 3,
   "metadata": {},
   "outputs": [
    {
     "name": "stdout",
     "output_type": "stream",
     "text": [
      "You chose {'Paper'} computer chose {'Rock'}\n"
     ]
    }
   ],
   "source": [
    "print('You chose', {User_action}, 'computer chose', {Computer_action})"
   ]
  },
  {
   "cell_type": "code",
   "execution_count": 31,
   "metadata": {},
   "outputs": [
    {
     "name": "stdout",
     "output_type": "stream",
     "text": [
      "Paper covers the rock, You Win!!\n"
     ]
    }
   ],
   "source": [
    "# Here is the condtion for if both the User and Computer actions are same\n",
    "if User_action == Computer_action:\n",
    "    print(f\"Both Player Selected {User_action}. It's a Tie!\")\n",
    "    \n",
    "# Here is the condtion for User action \"Paper\"\n",
    "elif User_action == 'Paper':\n",
    "    if Computer_action == 'Rock':\n",
    "        print(\"Paper covers the rock, You Win!!\")\n",
    "    else:\n",
    "        if Computer_action == \"Scissors\":\n",
    "            print(\"Scissors cuts the paper! You Lose!\")\n",
    "        if Computer_action == 'Lizard':\n",
    "            print('Lizard eats paper! You Lose!')\n",
    "        else:\n",
    "            print(\"Paper disproves Spock! You Win!\")\n",
    "\n",
    "# Here is the condition for User action \"Rock\"            \n",
    "elif User_action == 'Rock':\n",
    "    if Computer_action == 'Scissors':\n",
    "        print(\"Rock smashes Scissors! You Win!\")\n",
    "    else:\n",
    "        print(\"Paper covers the rock! You Lose!\")\n",
    "        if Computer_action == \"Lizard\":\n",
    "            print(\"Rock crushes Lizard! You Win!\")\n",
    "        else:\n",
    "            if Computer_action == \"Spock\":\n",
    "                print(\"Spock veporizes Rock! You Lose!\")\n",
    "                \n",
    "# Here is the condition for User action \"Scissors\"\n",
    "elif User_action == \"Scissors\":\n",
    "    if Computer_action == \"Paper\":\n",
    "        print(\"Scissors cuts Paper! You Win!\")\n",
    "    else:\n",
    "        print(\"Rock smashes Scissors! You Lose!\")\n",
    "        if Computer_action == \"Lizard\":\n",
    "            print(\"Scissors decapitate Lizard! You Win!\")\n",
    "        else:\n",
    "            if Computer_action ==\"Spock\":\n",
    "                print(\"Spock smashes Scissors! You Lose!\")\n",
    "                \n",
    "# Here is the condition for User action \"Lizard\"               \n",
    "elif User_action == \"Lizard\":\n",
    "    if Computer_action == \"Rock\":\n",
    "        print(\"Rock crushes Lizard! You Lose!\")\n",
    "    else:\n",
    "        print(\"Lizard eats Paper! You Win!\")\n",
    "        if Computer_action == \"Scissors\":\n",
    "            print(\"Scissors decapitate Lizard! You Lose!\")\n",
    "        else:\n",
    "            if Computer_action == \"Spock\":\n",
    "                print(\"Lizard poisons spock! You Win\")\n",
    "                \n",
    "# Here is thye condition for User action \"Spock\"\n",
    "elif User_action == \"Spock\":\n",
    "    if Computer_action == \"Rock\":\n",
    "        print(\"Spock vaporizes Rock! You Win!\")\n",
    "    else:\n",
    "        print(\"Paper desproves Spock! You Lose!\")\n",
    "        if Computer_action ==\"Scissors\":\n",
    "            print(\"Spock smashes Scissors! You Win!\")\n",
    "        else:\n",
    "            if Computer_action == \"Lizard\":\n",
    "                print(\"Lizard Poisons Spock! You Lose!\")\n",
    "                "
   ]
  },
  {
   "cell_type": "markdown",
   "metadata": {},
   "source": [
    "# Program Using While Loop"
   ]
  },
  {
   "cell_type": "code",
   "execution_count": 32,
   "metadata": {},
   "outputs": [
    {
     "name": "stdout",
     "output_type": "stream",
     "text": [
      "Enter A choice (Paper,Rock,Scissors,Lizard,Spock): Spock\n"
     ]
    }
   ],
   "source": [
    "# User Input\n",
    "User_action = input(\"Enter A choice (Paper,Rock,Scissors,Lizard,Spock): \")"
   ]
  },
  {
   "cell_type": "code",
   "execution_count": 33,
   "metadata": {},
   "outputs": [],
   "source": [
    "# Here I import random\n",
    "import random\n",
    "# Here are the possible action for User and Computer\n",
    "Possible_action = ['Paper','Rock','Scissors','Lizard','Spock']\n",
    "Computer_action = random.choice(Possible_action)"
   ]
  },
  {
   "cell_type": "code",
   "execution_count": 34,
   "metadata": {},
   "outputs": [
    {
     "name": "stdout",
     "output_type": "stream",
     "text": [
      "You chose {'Spock'} computer chose {'Lizard'}\n"
     ]
    }
   ],
   "source": [
    "print('You chose', {User_action}, 'computer chose', {Computer_action})"
   ]
  },
  {
   "cell_type": "code",
   "execution_count": 35,
   "metadata": {},
   "outputs": [
    {
     "name": "stdout",
     "output_type": "stream",
     "text": [
      "Lizard Poisons Spock! You Lose!\n",
      "Want to try again? (y/n): y\n",
      "Enter A choice (Paper,Rock,Scissors,Lizard,Spock): Lizard\n",
      "You chose {'Lizard'} computer chose {'Rock'}\n",
      "Rock crushes Lizard! You Lose!\n",
      "Want to try again? (y/n): y\n",
      "Enter A choice (Paper,Rock,Scissors,Lizard,Spock): Scissors\n",
      "You chose {'Scissors'} computer chose {'Rock'}\n",
      "Rock smashes Scissors! You Lose!\n",
      "Want to try again? (y/n): Rock\n"
     ]
    }
   ],
   "source": [
    "# Here I used While loop\n",
    "while True:\n",
    "    if User_action == Computer_action:\n",
    "        print(f\"Both Player Selected {User_action}. It's a Tie!\")\n",
    "    elif User_action == 'Paper':\n",
    "        if Computer_action == 'Rock':\n",
    "            print(\"Paper covers the rock, You Win!!\")\n",
    "        else:\n",
    "            if Computer_action == \"Scissors\":\n",
    "                print(\"Scissors cuts the paper! You Lose!\")\n",
    "            else:\n",
    "                if Computer_action == 'Lizard':\n",
    "                    print('Lizard eats paper! You Lose!')\n",
    "                else:\n",
    "                    if Computer_action == \"Spock\":\n",
    "                        print(\"Paper disproves Spock! You Win!\")\n",
    "    elif User_action == 'Rock':\n",
    "        if Computer_action == 'Scissors':\n",
    "            print(\"Rock smashes Scissors! You Win!\")\n",
    "        else:\n",
    "            if Computer_action == \"Paper\":\n",
    "                print(\"Paper covers the rock! You Lose!\")\n",
    "            else:\n",
    "                if Computer_action == \"Lizard\":\n",
    "                    print(\"Rock crushes Lizard! You Win!\")\n",
    "                else:\n",
    "                    if Computer_action == \"Spock\":\n",
    "                        print(\"Spock veporizes Rock! You Lose!\")\n",
    "    elif User_action == \"Scissors\":\n",
    "        if Computer_action == \"Paper\":\n",
    "            print(\"Scissors cuts Paper! You Win!\")\n",
    "        else:\n",
    "            if Computer_action == \"Rock\":\n",
    "                print(\"Rock smashes Scissors! You Lose!\")\n",
    "            else:\n",
    "                if Computer_action == \"Lizard\":\n",
    "                    print(\"Scissors decapitate Lizard! You Win!\")\n",
    "                else:\n",
    "                    if Computer_action ==\"Spock\":\n",
    "                        print(\"Spock smashes Scissors! You Lose!\")\n",
    "    elif User_action == \"Lizard\":\n",
    "        if Computer_action == \"Rock\":\n",
    "            print(\"Rock crushes Lizard! You Lose!\")\n",
    "        else:\n",
    "            if Computer_action == \"Paper\":\n",
    "                print(\"Lizard eats Paper! You Win!\")\n",
    "            else:\n",
    "                if Computer_action == \"Scissors\":\n",
    "                    print(\"Scissors decapitate Lizard! You Lose!\")\n",
    "                else:\n",
    "                    if Computer_action == \"Spock\":\n",
    "                        print(\"Lizard poisons spock! You Win\")\n",
    "    elif User_action == \"Spock\":\n",
    "        if Computer_action == \"Rock\":\n",
    "            print(\"Spock vaporizes Rock! You Win!\")\n",
    "        else:\n",
    "            if Computer_action == \"Paper\":\n",
    "                print(\"Paper desproves Spock! You Lose!\")\n",
    "            else:\n",
    "                if Computer_action ==\"Scissors\":\n",
    "                    print(\"Spock smashes Scissors! You Win!\")\n",
    "                else:\n",
    "                    if Computer_action == \"Lizard\":\n",
    "                        print(\"Lizard Poisons Spock! You Lose!\")\n",
    "    play_again = input(\"Want to try again? (y/n): \")\n",
    "    if play_again.lower() != \"y\":\n",
    "        break\n",
    "    else:\n",
    "        User_action = input(\"Enter A choice (Paper,Rock,Scissors,Lizard,Spock): \")\n",
    "        Possible_action = ['Paper','Rock','Scissors','Lizard','Spock']\n",
    "        Computer_action = random.choice(Possible_action)\n",
    "        print('You chose', {User_action}, 'computer chose', {Computer_action})"
   ]
  },
  {
   "cell_type": "code",
   "execution_count": null,
   "metadata": {},
   "outputs": [],
   "source": []
  }
 ],
 "metadata": {
  "kernelspec": {
   "display_name": "Python 3",
   "language": "python",
   "name": "python3"
  },
  "language_info": {
   "codemirror_mode": {
    "name": "ipython",
    "version": 3
   },
   "file_extension": ".py",
   "mimetype": "text/x-python",
   "name": "python",
   "nbconvert_exporter": "python",
   "pygments_lexer": "ipython3",
   "version": "3.8.2"
  }
 },
 "nbformat": 4,
 "nbformat_minor": 4
}
